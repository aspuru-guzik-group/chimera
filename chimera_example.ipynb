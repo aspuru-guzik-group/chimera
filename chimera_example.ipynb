{
  "nbformat": 4,
  "nbformat_minor": 0,
  "metadata": {
    "colab": {
      "name": "chimera-example.ipynb",
      "provenance": []
    },
    "kernelspec": {
      "name": "python3",
      "display_name": "Python 3"
    }
  },
  "cells": [
    {
      "cell_type": "markdown",
      "metadata": {
        "id": "SZPPO-Rla6DE"
      },
      "source": [
        "# Chimera Example\n",
        "-----"
      ]
    },
    {
      "cell_type": "code",
      "metadata": {
        "colab": {
          "base_uri": "https://localhost:8080/"
        },
        "id": "-ruh0BYba975",
        "outputId": "424d9a76-c9a9-44d6-bd50-302918fa6da9"
      },
      "source": [
        "# install chimera\n",
        "!pip install matter-chimera"
      ],
      "execution_count": 1,
      "outputs": [
        {
          "output_type": "stream",
          "text": [
            "Requirement already satisfied: matter-chimera in /usr/local/lib/python3.6/dist-packages (1.0)\n",
            "Requirement already satisfied: numpy in /usr/local/lib/python3.6/dist-packages (from matter-chimera) (1.19.5)\n"
          ],
          "name": "stdout"
        }
      ]
    },
    {
      "cell_type": "code",
      "metadata": {
        "id": "7PRGxxORaO2Y"
      },
      "source": [
        "import numpy as np\n",
        "import pandas as pd\n",
        "import matplotlib.pyplot as plt\n",
        "import seaborn as sns\n",
        "from chimera import Chimera"
      ],
      "execution_count": 2,
      "outputs": []
    },
    {
      "cell_type": "markdown",
      "metadata": {
        "id": "S78UXbuhbLU4"
      },
      "source": [
        "As an example we will consider three, one-dimensional objectives to be scalarized."
      ]
    },
    {
      "cell_type": "code",
      "metadata": {
        "id": "CPb_4HNGaVdR"
      },
      "source": [
        "# First we define the three objectives\n",
        "\n",
        "def obj_0(x):\n",
        "    if x < 1:\n",
        "        result = - 2 * x + 1\n",
        "    elif x < 3.0:\n",
        "        result = x - 2\n",
        "    elif x < 3.5:\n",
        "        result = 7 - 2 * x\n",
        "    else:\n",
        "        result = 2 * x - 7\n",
        "    return result\n",
        "\n",
        "def obj_1(x):\n",
        "    return 1 - 2 * np.exp(-0.15 * (x-2.0)**2) + 1.25 * np.exp( - 10 * (x - 1.7)**2)\n",
        "\n",
        "def obj_2(x):\n",
        "    x = 6 - (x + 2)\n",
        "    return 0.01 * (x+1)**2 + 0.01 * np.exp(- (x-2))"
      ],
      "execution_count": 3,
      "outputs": []
    },
    {
      "cell_type": "code",
      "metadata": {
        "id": "j-_c1ix-dDQ9"
      },
      "source": [
        "# Instantiate the Chimera object with the desired options\n",
        "# Here we define relative tolarences of 60%, 40%, and 10% for the 1st, 2nd, and \n",
        "#  3rd objective, respectively\n",
        "tolerances = np.array([0.6, 0.4, 0.1])  # i.e. 60%, 40%, 10%\n",
        "absolutes = [False, False, False]  # i.e. all relative tolerances\n",
        "goals = ['min', 'min', 'min']  # i.e. we are minimizing all 3 objectives\n",
        "chimera = Chimera(tolerances=tolerances, absolutes=absolutes, goals=goals)"
      ],
      "execution_count": 4,
      "outputs": []
    },
    {
      "cell_type": "code",
      "metadata": {
        "colab": {
          "base_uri": "https://localhost:8080/"
        },
        "id": "DqpvjnlIaZsj",
        "outputId": "977a461b-fa30-4deb-e59b-9c071aa77b93"
      },
      "source": [
        "# we evaluate the three objectives between -1 and 5\n",
        "domain = np.linspace(-1., 5., 1000)\n",
        "loss_0 = np.zeros(len(domain))\n",
        "for index, element in enumerate(domain):\n",
        "    loss_0[index] = obj_0(element)\n",
        "loss_1 = obj_1(domain)\n",
        "loss_2 = obj_2(domain)\n",
        "\n",
        "losses = np.array([loss_0, loss_1, loss_2])\n",
        "print('losses: ', losses)\n",
        "print('shape: ', losses.shape)"
      ],
      "execution_count": 5,
      "outputs": [
        {
          "output_type": "stream",
          "text": [
            "losses:  [[3.         2.98798799 2.97597598 ... 2.97597598 2.98798799 3.        ]\n",
            " [0.48151948 0.47871211 0.47589522 ... 0.47589522 0.47871211 0.48151948]\n",
            " [0.36049787 0.35978051 0.35906389 ... 0.19845857 0.19965301 0.20085537]]\n",
            "shape:  (3, 1000)\n"
          ],
          "name": "stdout"
        }
      ]
    },
    {
      "cell_type": "code",
      "metadata": {
        "id": "fnd8dNPgcdzK"
      },
      "source": [
        "# we the scalirize the objectived with chimera\n",
        "scalarized = chimera.scalarize(losses.T)  # transpose losses such that its shape is (1000, 3)"
      ],
      "execution_count": 6,
      "outputs": []
    },
    {
      "cell_type": "code",
      "metadata": {
        "colab": {
          "base_uri": "https://localhost:8080/",
          "height": 497
        },
        "id": "Kqwi4cSabV-Y",
        "outputId": "80c923a8-c974-48eb-dae9-5408d12c51d8"
      },
      "source": [
        "# plot the results\n",
        "fig = plt.figure(figsize = (12, 8))\n",
        "ax0 = plt.subplot2grid((2, 1), (0, 0))\n",
        "ax1 = plt.subplot2grid((2, 1), (1, 0))\n",
        "\n",
        "# first plot each objective individually\n",
        "for index in range(len(losses)):\n",
        "    ax0.plot(domain, losses[index], marker = '.', ls = '', label = 'obj %d' % index)\n",
        "\n",
        "# then plot the scalarized objectives\n",
        "ax1.plot(domain, scalarized, marker = 'o', ls = '', color = 'k', label = 'chimera')\n",
        "\n",
        "ax0.legend()\n",
        "ax1.legend()\n",
        "\n",
        "_ = ax0.set_xlabel('domain')\n",
        "_ = ax1.set_xlabel('domain')\n",
        "_ = ax0.set_ylabel('objective')\n",
        "_ = ax1.set_ylabel('objective')"
      ],
      "execution_count": 7,
      "outputs": [
        {
          "output_type": "display_data",
          "data": {
            "image/png": "[encoded data removed]",
            "text/plain": [
              "<Figure size 864x576 with 2 Axes>"
            ]
          },
          "metadata": {
            "tags": [],
            "needs_background": "light"
          }
        }
      ]
    },
    {
      "cell_type": "code",
      "metadata": {
        "id": "e2zWVCs9bwUl"
      },
      "source": [
        ""
      ],
      "execution_count": null,
      "outputs": []
    }
  ]
}